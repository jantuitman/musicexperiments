{
  "nbformat": 4,
  "nbformat_minor": 0,
  "metadata": {
    "colab": {
      "provenance": [],
      "authorship_tag": "ABX9TyM5Qfw1P4Z2z4xtQGyRCcQM",
      "include_colab_link": true
    },
    "kernelspec": {
      "name": "python3",
      "display_name": "Python 3"
    },
    "language_info": {
      "name": "python"
    },
    "widgets": {
      "application/vnd.jupyter.widget-state+json": {
        "2e04eb34a15f4b92bf7ef2fa792081ba": {
          "model_module": "@jupyter-widgets/controls",
          "model_name": "TextModel",
          "model_module_version": "1.5.0",
          "state": {
            "_dom_classes": [],
            "_model_module": "@jupyter-widgets/controls",
            "_model_module_version": "1.5.0",
            "_model_name": "TextModel",
            "_view_count": null,
            "_view_module": "@jupyter-widgets/controls",
            "_view_module_version": "1.5.0",
            "_view_name": "TextView",
            "continuous_update": true,
            "description": "Chord Notes:",
            "description_tooltip": null,
            "disabled": false,
            "layout": "IPY_MODEL_5ba164502d9545d7a1e1620d05811382",
            "placeholder": "Enter note names separated by space",
            "style": "IPY_MODEL_98a8a231b9cd444f962ce699139351a2",
            "value": "C D# G B"
          }
        },
        "5ba164502d9545d7a1e1620d05811382": {
          "model_module": "@jupyter-widgets/base",
          "model_name": "LayoutModel",
          "model_module_version": "1.2.0",
          "state": {
            "_model_module": "@jupyter-widgets/base",
            "_model_module_version": "1.2.0",
            "_model_name": "LayoutModel",
            "_view_count": null,
            "_view_module": "@jupyter-widgets/base",
            "_view_module_version": "1.2.0",
            "_view_name": "LayoutView",
            "align_content": null,
            "align_items": null,
            "align_self": null,
            "border": null,
            "bottom": null,
            "display": null,
            "flex": null,
            "flex_flow": null,
            "grid_area": null,
            "grid_auto_columns": null,
            "grid_auto_flow": null,
            "grid_auto_rows": null,
            "grid_column": null,
            "grid_gap": null,
            "grid_row": null,
            "grid_template_areas": null,
            "grid_template_columns": null,
            "grid_template_rows": null,
            "height": null,
            "justify_content": null,
            "justify_items": null,
            "left": null,
            "margin": null,
            "max_height": null,
            "max_width": null,
            "min_height": null,
            "min_width": null,
            "object_fit": null,
            "object_position": null,
            "order": null,
            "overflow": null,
            "overflow_x": null,
            "overflow_y": null,
            "padding": null,
            "right": null,
            "top": null,
            "visibility": null,
            "width": null
          }
        },
        "98a8a231b9cd444f962ce699139351a2": {
          "model_module": "@jupyter-widgets/controls",
          "model_name": "DescriptionStyleModel",
          "model_module_version": "1.5.0",
          "state": {
            "_model_module": "@jupyter-widgets/controls",
            "_model_module_version": "1.5.0",
            "_model_name": "DescriptionStyleModel",
            "_view_count": null,
            "_view_module": "@jupyter-widgets/base",
            "_view_module_version": "1.2.0",
            "_view_name": "StyleView",
            "description_width": ""
          }
        },
        "8ba0a95c83d84eea910db3e1ea32375c": {
          "model_module": "@jupyter-widgets/controls",
          "model_name": "TextModel",
          "model_module_version": "1.5.0",
          "state": {
            "_dom_classes": [],
            "_model_module": "@jupyter-widgets/controls",
            "_model_module_version": "1.5.0",
            "_model_name": "TextModel",
            "_view_count": null,
            "_view_module": "@jupyter-widgets/controls",
            "_view_module_version": "1.5.0",
            "_view_name": "TextView",
            "continuous_update": true,
            "description": "Root Note:",
            "description_tooltip": null,
            "disabled": false,
            "layout": "IPY_MODEL_de47dcd8fa6349ea985416e5e9909837",
            "placeholder": "Enter root note (optional)",
            "style": "IPY_MODEL_3f17f1a7156747459356c29bfa9b19d7",
            "value": "C"
          }
        },
        "de47dcd8fa6349ea985416e5e9909837": {
          "model_module": "@jupyter-widgets/base",
          "model_name": "LayoutModel",
          "model_module_version": "1.2.0",
          "state": {
            "_model_module": "@jupyter-widgets/base",
            "_model_module_version": "1.2.0",
            "_model_name": "LayoutModel",
            "_view_count": null,
            "_view_module": "@jupyter-widgets/base",
            "_view_module_version": "1.2.0",
            "_view_name": "LayoutView",
            "align_content": null,
            "align_items": null,
            "align_self": null,
            "border": null,
            "bottom": null,
            "display": null,
            "flex": null,
            "flex_flow": null,
            "grid_area": null,
            "grid_auto_columns": null,
            "grid_auto_flow": null,
            "grid_auto_rows": null,
            "grid_column": null,
            "grid_gap": null,
            "grid_row": null,
            "grid_template_areas": null,
            "grid_template_columns": null,
            "grid_template_rows": null,
            "height": null,
            "justify_content": null,
            "justify_items": null,
            "left": null,
            "margin": null,
            "max_height": null,
            "max_width": null,
            "min_height": null,
            "min_width": null,
            "object_fit": null,
            "object_position": null,
            "order": null,
            "overflow": null,
            "overflow_x": null,
            "overflow_y": null,
            "padding": null,
            "right": null,
            "top": null,
            "visibility": null,
            "width": null
          }
        },
        "3f17f1a7156747459356c29bfa9b19d7": {
          "model_module": "@jupyter-widgets/controls",
          "model_name": "DescriptionStyleModel",
          "model_module_version": "1.5.0",
          "state": {
            "_model_module": "@jupyter-widgets/controls",
            "_model_module_version": "1.5.0",
            "_model_name": "DescriptionStyleModel",
            "_view_count": null,
            "_view_module": "@jupyter-widgets/base",
            "_view_module_version": "1.2.0",
            "_view_name": "StyleView",
            "description_width": ""
          }
        },
        "67fa9b0b42fa43ce86f412c5a9299f1f": {
          "model_module": "@jupyter-widgets/controls",
          "model_name": "ButtonModel",
          "model_module_version": "1.5.0",
          "state": {
            "_dom_classes": [],
            "_model_module": "@jupyter-widgets/controls",
            "_model_module_version": "1.5.0",
            "_model_name": "ButtonModel",
            "_view_count": null,
            "_view_module": "@jupyter-widgets/controls",
            "_view_module_version": "1.5.0",
            "_view_name": "ButtonView",
            "button_style": "",
            "description": "Find Scales",
            "disabled": false,
            "icon": "",
            "layout": "IPY_MODEL_25ed4431cddb43fd8caacb3360e31f99",
            "style": "IPY_MODEL_9db8540e5be643c19b511ea10d85f5f8",
            "tooltip": ""
          }
        },
        "25ed4431cddb43fd8caacb3360e31f99": {
          "model_module": "@jupyter-widgets/base",
          "model_name": "LayoutModel",
          "model_module_version": "1.2.0",
          "state": {
            "_model_module": "@jupyter-widgets/base",
            "_model_module_version": "1.2.0",
            "_model_name": "LayoutModel",
            "_view_count": null,
            "_view_module": "@jupyter-widgets/base",
            "_view_module_version": "1.2.0",
            "_view_name": "LayoutView",
            "align_content": null,
            "align_items": null,
            "align_self": null,
            "border": null,
            "bottom": null,
            "display": null,
            "flex": null,
            "flex_flow": null,
            "grid_area": null,
            "grid_auto_columns": null,
            "grid_auto_flow": null,
            "grid_auto_rows": null,
            "grid_column": null,
            "grid_gap": null,
            "grid_row": null,
            "grid_template_areas": null,
            "grid_template_columns": null,
            "grid_template_rows": null,
            "height": null,
            "justify_content": null,
            "justify_items": null,
            "left": null,
            "margin": null,
            "max_height": null,
            "max_width": null,
            "min_height": null,
            "min_width": null,
            "object_fit": null,
            "object_position": null,
            "order": null,
            "overflow": null,
            "overflow_x": null,
            "overflow_y": null,
            "padding": null,
            "right": null,
            "top": null,
            "visibility": null,
            "width": null
          }
        },
        "9db8540e5be643c19b511ea10d85f5f8": {
          "model_module": "@jupyter-widgets/controls",
          "model_name": "ButtonStyleModel",
          "model_module_version": "1.5.0",
          "state": {
            "_model_module": "@jupyter-widgets/controls",
            "_model_module_version": "1.5.0",
            "_model_name": "ButtonStyleModel",
            "_view_count": null,
            "_view_module": "@jupyter-widgets/base",
            "_view_module_version": "1.2.0",
            "_view_name": "StyleView",
            "button_color": null,
            "font_weight": ""
          }
        },
        "f0628222a8934833b2128b931eb86368": {
          "model_module": "@jupyter-widgets/output",
          "model_name": "OutputModel",
          "model_module_version": "1.0.0",
          "state": {
            "_dom_classes": [],
            "_model_module": "@jupyter-widgets/output",
            "_model_module_version": "1.0.0",
            "_model_name": "OutputModel",
            "_view_count": null,
            "_view_module": "@jupyter-widgets/output",
            "_view_module_version": "1.0.0",
            "_view_name": "OutputView",
            "layout": "IPY_MODEL_f50fcbe6544242afab8a39ce51627677",
            "msg_id": "",
            "outputs": [
              {
                "output_type": "display_data",
                "data": {
                  "text/plain": "<IPython.core.display.Markdown object>",
                  "text/markdown": "**Entered chord notes:** ['C', 'D#', 'G', 'B']\n\n**Matching scales with root note C:**\n\nC Harmonic Minor (C Harmonic Minor, mode +0): Notes(C, D, D#, F, G, G#, B)\n**Intervals:**\n- **0**: **C**\n- 2: D\n- **3**: **D#**\n- 5: F\n- **7**: **G**\n- 8: G#\n- **11**: **B**\n\nC Lydian #2 (C Harmonic Minor, mode +5): Notes(C, D#, E, F#, G, A, B)\n**Intervals:**\n- **0**: **C**\n- **3**: **D#**\n- 4: E\n- 6: F#\n- **7**: **G**\n- 9: A\n- **11**: **B**\n\nC Melodic Minor (Ascending) (C Melodic Minor, mode +0): Notes(C, D, D#, F, G, A, B)\n**Intervals:**\n- **0**: **C**\n- 2: D\n- **3**: **D#**\n- 5: F\n- **7**: **G**\n- 9: A\n- **11**: **B**\n\nC Lydian b3 (C Melodic Major, mode +3): Notes(C, D, D#, F#, G, A, B)\n**Intervals:**\n- **0**: **C**\n- 2: D\n- **3**: **D#**\n- 6: F#\n- **7**: **G**\n- 9: A\n- **11**: **B**"
                },
                "metadata": {}
              }
            ]
          }
        },
        "f50fcbe6544242afab8a39ce51627677": {
          "model_module": "@jupyter-widgets/base",
          "model_name": "LayoutModel",
          "model_module_version": "1.2.0",
          "state": {
            "_model_module": "@jupyter-widgets/base",
            "_model_module_version": "1.2.0",
            "_model_name": "LayoutModel",
            "_view_count": null,
            "_view_module": "@jupyter-widgets/base",
            "_view_module_version": "1.2.0",
            "_view_name": "LayoutView",
            "align_content": null,
            "align_items": null,
            "align_self": null,
            "border": null,
            "bottom": null,
            "display": null,
            "flex": null,
            "flex_flow": null,
            "grid_area": null,
            "grid_auto_columns": null,
            "grid_auto_flow": null,
            "grid_auto_rows": null,
            "grid_column": null,
            "grid_gap": null,
            "grid_row": null,
            "grid_template_areas": null,
            "grid_template_columns": null,
            "grid_template_rows": null,
            "height": null,
            "justify_content": null,
            "justify_items": null,
            "left": null,
            "margin": null,
            "max_height": null,
            "max_width": null,
            "min_height": null,
            "min_width": null,
            "object_fit": null,
            "object_position": null,
            "order": null,
            "overflow": null,
            "overflow_x": null,
            "overflow_y": null,
            "padding": null,
            "right": null,
            "top": null,
            "visibility": null,
            "width": null
          }
        }
      }
    }
  },
  "cells": [
    {
      "cell_type": "markdown",
      "metadata": {
        "id": "view-in-github",
        "colab_type": "text"
      },
      "source": [
        "<a href=\"https://colab.research.google.com/github/jantuitman/musicexperiments/blob/main/scales_finder.ipynb\" target=\"_parent\"><img src=\"https://colab.research.google.com/assets/colab-badge.svg\" alt=\"Open In Colab\"/></a>"
      ]
    },
    {
      "cell_type": "markdown",
      "source": [
        "# Scales finder\n",
        "\n",
        "This notebook prints scales that match chords or notes that you supply."
      ],
      "metadata": {
        "id": "Bay4hoxqibCU"
      }
    },
    {
      "cell_type": "code",
      "source": [
        "class Note:\n",
        "    NOTES = [\"C\", \"C#\", \"D\", \"D#\", \"E\", \"F\", \"F#\", \"G\", \"G#\", \"A\", \"A#\", \"B\"]\n",
        "    NOTE_VALUES = {note: i for i, note in enumerate(NOTES)}\n",
        "    VALUE_NOTES = {i: note for i, note in enumerate(NOTES)}\n",
        "\n",
        "    def __init__(self, name):\n",
        "        self.name = name\n",
        "        self.value = self.NOTE_VALUES[name]\n",
        "\n",
        "    def interval_to(self, other):\n",
        "        return (other.value - self.value) % 12\n",
        "\n",
        "    def __repr__(self):\n",
        "        return self.name\n"
      ],
      "metadata": {
        "id": "pDB-ui3gjBtA"
      },
      "execution_count": 8,
      "outputs": []
    },
    {
      "cell_type": "code",
      "source": [
        "class Scale:\n",
        "    def __init__(self, root, intervals, name, mode=0, scale_type=\"\"):\n",
        "        self.root = Note(root)\n",
        "        self.intervals = intervals\n",
        "        self.name = name\n",
        "        self.scale_type = scale_type\n",
        "        self.systematic_name = f\"{root} {scale_type}, mode +{mode}\"\n",
        "        self.notes = [self.root.name] + [Note.VALUE_NOTES[(self.root.value + interval) % 12] for interval in intervals]\n",
        "\n",
        "    def contains(self, notes):\n",
        "        return all(note.name in self.notes for note in notes)\n",
        "\n",
        "    def __repr__(self):\n",
        "        notes_str = ', '.join([str(note) for note in self.notes])\n",
        "        return f\"{self.name} ({self.systematic_name}): Notes({notes_str})\"\n",
        "\n",
        "    def get_intervals_markdown(self, chord_notes):\n",
        "        intervals_md = []\n",
        "        for interval, note in zip([0] + self.intervals, self.notes):\n",
        "            if note in [n.name for n in chord_notes]:\n",
        "                intervals_md.append(f\"- **{interval}**: **{note}**\")\n",
        "            else:\n",
        "                intervals_md.append(f\"- {interval}: {note}\")\n",
        "        return '\\n'.join(intervals_md)\n"
      ],
      "metadata": {
        "id": "SIIDu6JQmSn5"
      },
      "execution_count": 28,
      "outputs": []
    },
    {
      "cell_type": "code",
      "source": [
        "# Define the ScaleCollection class\n",
        "class ScaleCollection:\n",
        "    def __init__(self):\n",
        "        self.scales = []\n",
        "\n",
        "    def add_scale(self, scale):\n",
        "        self.scales.append(scale)\n",
        "\n",
        "    def match_scales(self, chord_notes):\n",
        "        matching_scales = []\n",
        "        for scale in self.scales:\n",
        "            if scale.contains(chord_notes):\n",
        "                matching_scales.append(scale)\n",
        "        return matching_scales"
      ],
      "metadata": {
        "id": "eWG5BDKfmaiZ"
      },
      "execution_count": 10,
      "outputs": []
    },
    {
      "cell_type": "code",
      "source": [
        "def add_scales_for_all_roots(scale_collection, intervals, name, scale_type, mode=0):\n",
        "    for root in Note.NOTES:\n",
        "        scale_collection.add_scale(Scale(root, intervals, f\"{root} {name}\", mode, scale_type))\n"
      ],
      "metadata": {
        "id": "tWvXShCSwRf0"
      },
      "execution_count": 19,
      "outputs": []
    },
    {
      "cell_type": "code",
      "source": [
        "# Initialize the scale collection with common scales\n",
        "scale_collection = ScaleCollection()\n",
        "\n",
        "# Define the intervals for the Major scale and its modes\n",
        "major_intervals = [0, 2, 4, 5, 7, 9, 11]\n",
        "major_mode_names = [\"Ionian\", \"Dorian\", \"Phrygian\", \"Lydian\", \"Mixolydian\", \"Aeolian\", \"Locrian\"]\n",
        "\n",
        "# Define the intervals for the Harmonic Minor scale and its modes\n",
        "harmonic_minor_intervals = [0, 2, 3, 5, 7, 8, 11]\n",
        "harmonic_minor_mode_names = [\"Harmonic Minor\", \"Locrian #6\", \"Ionian #5\", \"Dorian #4\", \"Phrygian Dominant\", \"Lydian #2\", \"Altered Dominant bb7\"]\n",
        "\n",
        "# Define the intervals for the Melodic Minor scale and its modes\n",
        "melodic_minor_intervals = [0, 2, 3, 5, 7, 9, 11]\n",
        "melodic_minor_mode_names = [\"Melodic Minor (Ascending)\", \"Dorian b2\", \"Lydian Augmented\", \"Lydian Dominant\", \"Mixolydian b6\", \"Locrian #2\", \"Altered Scale\"]\n",
        "\n",
        "# Define the intervals for the Melodic Major scale and its modes\n",
        "melodic_major_intervals = [0, 2, 4, 5, 7, 8, 11]\n",
        "melodic_major_mode_names = [\"Melodic Major\", \"Dorian b5\", \"Phrygian b4\", \"Lydian b3\", \"Mixolydian b2\", \"Locrian b1\", \"Superlocrian\"]\n",
        "\n",
        "# Function to rotate and normalize intervals to get modes\n",
        "def get_mode_intervals(intervals, mode):\n",
        "    root = intervals[mode]\n",
        "    rotated = [(interval - root) % 12 for interval in intervals]\n",
        "    rotated.sort()\n",
        "    return rotated\n",
        "\n",
        "# Add Major scale and its modes\n",
        "for mode, name in enumerate(major_mode_names):\n",
        "    intervals = get_mode_intervals(major_intervals, mode)\n",
        "    add_scales_for_all_roots(scale_collection, intervals[1:], name, \"Major\", mode)\n",
        "\n",
        "# Add Harmonic Minor scale and its modes\n",
        "for mode, name in enumerate(harmonic_minor_mode_names):\n",
        "    intervals = get_mode_intervals(harmonic_minor_intervals, mode)\n",
        "    add_scales_for_all_roots(scale_collection, intervals[1:], name, \"Harmonic Minor\", mode)\n",
        "\n",
        "# Add Melodic Minor scale and its modes\n",
        "for mode, name in enumerate(melodic_minor_mode_names):\n",
        "    intervals = get_mode_intervals(melodic_minor_intervals, mode)\n",
        "    add_scales_for_all_roots(scale_collection, intervals[1:], name, \"Melodic Minor\", mode)\n",
        "\n",
        "# Add Melodic Major scale and its modes\n",
        "for mode, name in enumerate(melodic_major_mode_names):\n",
        "    intervals = get_mode_intervals(melodic_major_intervals, mode)\n",
        "    add_scales_for_all_roots(scale_collection, intervals[1:], name, \"Melodic Major\", mode)\n"
      ],
      "metadata": {
        "id": "7Akr1apbnWow"
      },
      "execution_count": 34,
      "outputs": []
    },
    {
      "cell_type": "code",
      "source": [
        "import ipywidgets as widgets\n",
        "from IPython.display import display, clear_output, Markdown\n",
        "\n",
        "# Define the text boxes\n",
        "text_box_notes = widgets.Text(\n",
        "    value='C E G',\n",
        "    placeholder='Enter note names separated by space',\n",
        "    description='Chord Notes:',\n",
        "    disabled=False\n",
        ")\n",
        "\n",
        "text_box_root = widgets.Text(\n",
        "    value='',\n",
        "    placeholder='Enter root note (optional)',\n",
        "    description='Root Note:',\n",
        "    disabled=False\n",
        ")\n",
        "\n",
        "# Define a button\n",
        "button_find_scales = widgets.Button(description=\"Find Scales\")\n",
        "\n",
        "# Define the output area\n",
        "output_notes = widgets.Output()\n",
        "\n",
        "result_markdown='';\n",
        "\n",
        "# Define the event handler\n",
        "def find_scales(b):\n",
        "    with output_notes:\n",
        "        clear_output()\n",
        "        notes = text_box_notes.value.split()\n",
        "        chord_notes = [Note(note) for note in notes]\n",
        "        root_note = text_box_root.value.strip()\n",
        "        matching_scales = scale_collection.match_scales(chord_notes)\n",
        "        if root_note:\n",
        "          root_note_value = Note.NOTE_VALUES.get(root_note, None)\n",
        "          if root_note_value is not None:\n",
        "            matching_scales = [scale for scale in matching_scales if scale.root.value == root_note_value]\n",
        "\n",
        "        result_markdown = [f\"**Entered chord notes:** {notes}\"]\n",
        "        if root_note is not None:\n",
        "            result_markdown.append(f\"**Matching scales with root note {root_note}:**\")\n",
        "        else:\n",
        "            result_markdown.append(\"**Matching scales:**\")\n",
        "\n",
        "        for scale in matching_scales:\n",
        "            scale_md = f\"{scale}\\n**Intervals:**\\n{scale.get_intervals_markdown(chord_notes)}\"\n",
        "            result_markdown.append(scale_md)\n",
        "\n",
        "\n",
        "# Attach the event handler to the button\n",
        "button_find_scales.on_click(find_scales)\n",
        "\n",
        "# Display the text boxes, button, and output area\n",
        "display(text_box_notes, text_box_root, button_find_scales, output_notes, Markdown(\"\\n\\n\".join(result_markdown))\n"
      ],
      "metadata": {
        "colab": {
          "base_uri": "https://localhost:8080/",
          "height": 757,
          "referenced_widgets": [
            "2e04eb34a15f4b92bf7ef2fa792081ba",
            "5ba164502d9545d7a1e1620d05811382",
            "98a8a231b9cd444f962ce699139351a2",
            "8ba0a95c83d84eea910db3e1ea32375c",
            "de47dcd8fa6349ea985416e5e9909837",
            "3f17f1a7156747459356c29bfa9b19d7",
            "67fa9b0b42fa43ce86f412c5a9299f1f",
            "25ed4431cddb43fd8caacb3360e31f99",
            "9db8540e5be643c19b511ea10d85f5f8",
            "f0628222a8934833b2128b931eb86368",
            "f50fcbe6544242afab8a39ce51627677"
          ]
        },
        "id": "OfEnChqgn7M2",
        "outputId": "b5abe55c-d984-4af9-b1d7-1ba3217db831"
      },
      "execution_count": 33,
      "outputs": [
        {
          "output_type": "display_data",
          "data": {
            "text/plain": [
              "Text(value='C E G', description='Chord Notes:', placeholder='Enter note names separated by space')"
            ],
            "application/vnd.jupyter.widget-view+json": {
              "version_major": 2,
              "version_minor": 0,
              "model_id": "2e04eb34a15f4b92bf7ef2fa792081ba"
            }
          },
          "metadata": {}
        },
        {
          "output_type": "display_data",
          "data": {
            "text/plain": [
              "Text(value='', description='Root Note:', placeholder='Enter root note (optional)')"
            ],
            "application/vnd.jupyter.widget-view+json": {
              "version_major": 2,
              "version_minor": 0,
              "model_id": "8ba0a95c83d84eea910db3e1ea32375c"
            }
          },
          "metadata": {}
        },
        {
          "output_type": "display_data",
          "data": {
            "text/plain": [
              "Button(description='Find Scales', style=ButtonStyle())"
            ],
            "application/vnd.jupyter.widget-view+json": {
              "version_major": 2,
              "version_minor": 0,
              "model_id": "67fa9b0b42fa43ce86f412c5a9299f1f"
            }
          },
          "metadata": {}
        },
        {
          "output_type": "display_data",
          "data": {
            "text/plain": [
              "Output()"
            ],
            "application/vnd.jupyter.widget-view+json": {
              "version_major": 2,
              "version_minor": 0,
              "model_id": "f0628222a8934833b2128b931eb86368"
            }
          },
          "metadata": {}
        }
      ]
    }
  ]
}