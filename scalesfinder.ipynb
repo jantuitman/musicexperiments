{
  "nbformat": 4,
  "nbformat_minor": 0,
  "metadata": {
    "colab": {
      "provenance": [],
      "authorship_tag": "ABX9TyOv/pKYrLHz2Q1EJAjpU9Dn",
      "include_colab_link": true
    },
    "kernelspec": {
      "name": "python3",
      "display_name": "Python 3"
    },
    "language_info": {
      "name": "python"
    },
    "widgets": {
      "application/vnd.jupyter.widget-state+json": {
        "cc9d5d20e7804dcda5c5de6540786d08": {
          "model_module": "@jupyter-widgets/controls",
          "model_name": "TextModel",
          "model_module_version": "1.5.0",
          "state": {
            "_dom_classes": [],
            "_model_module": "@jupyter-widgets/controls",
            "_model_module_version": "1.5.0",
            "_model_name": "TextModel",
            "_view_count": null,
            "_view_module": "@jupyter-widgets/controls",
            "_view_module_version": "1.5.0",
            "_view_name": "TextView",
            "continuous_update": true,
            "description": "Chord Notes:",
            "description_tooltip": null,
            "disabled": false,
            "layout": "IPY_MODEL_a0605d9c8a1f41fda9d189d3b58081eb",
            "placeholder": "Enter note names separated by space",
            "style": "IPY_MODEL_d2dada464c964369ba2bcda029b0779e",
            "value": "D F G# C"
          }
        },
        "a0605d9c8a1f41fda9d189d3b58081eb": {
          "model_module": "@jupyter-widgets/base",
          "model_name": "LayoutModel",
          "model_module_version": "1.2.0",
          "state": {
            "_model_module": "@jupyter-widgets/base",
            "_model_module_version": "1.2.0",
            "_model_name": "LayoutModel",
            "_view_count": null,
            "_view_module": "@jupyter-widgets/base",
            "_view_module_version": "1.2.0",
            "_view_name": "LayoutView",
            "align_content": null,
            "align_items": null,
            "align_self": null,
            "border": null,
            "bottom": null,
            "display": null,
            "flex": null,
            "flex_flow": null,
            "grid_area": null,
            "grid_auto_columns": null,
            "grid_auto_flow": null,
            "grid_auto_rows": null,
            "grid_column": null,
            "grid_gap": null,
            "grid_row": null,
            "grid_template_areas": null,
            "grid_template_columns": null,
            "grid_template_rows": null,
            "height": null,
            "justify_content": null,
            "justify_items": null,
            "left": null,
            "margin": null,
            "max_height": null,
            "max_width": null,
            "min_height": null,
            "min_width": null,
            "object_fit": null,
            "object_position": null,
            "order": null,
            "overflow": null,
            "overflow_x": null,
            "overflow_y": null,
            "padding": null,
            "right": null,
            "top": null,
            "visibility": null,
            "width": null
          }
        },
        "d2dada464c964369ba2bcda029b0779e": {
          "model_module": "@jupyter-widgets/controls",
          "model_name": "DescriptionStyleModel",
          "model_module_version": "1.5.0",
          "state": {
            "_model_module": "@jupyter-widgets/controls",
            "_model_module_version": "1.5.0",
            "_model_name": "DescriptionStyleModel",
            "_view_count": null,
            "_view_module": "@jupyter-widgets/base",
            "_view_module_version": "1.2.0",
            "_view_name": "StyleView",
            "description_width": ""
          }
        },
        "06df1093cdc74144a7aaa2bfc3460ddd": {
          "model_module": "@jupyter-widgets/controls",
          "model_name": "TextModel",
          "model_module_version": "1.5.0",
          "state": {
            "_dom_classes": [],
            "_model_module": "@jupyter-widgets/controls",
            "_model_module_version": "1.5.0",
            "_model_name": "TextModel",
            "_view_count": null,
            "_view_module": "@jupyter-widgets/controls",
            "_view_module_version": "1.5.0",
            "_view_name": "TextView",
            "continuous_update": true,
            "description": "Root Note:",
            "description_tooltip": null,
            "disabled": false,
            "layout": "IPY_MODEL_d3d2d524e26b4689bdeb66d494c031e4",
            "placeholder": "Enter root note (optional)",
            "style": "IPY_MODEL_c7ba1b093a924d389ba930be383acfb9",
            "value": "D"
          }
        },
        "d3d2d524e26b4689bdeb66d494c031e4": {
          "model_module": "@jupyter-widgets/base",
          "model_name": "LayoutModel",
          "model_module_version": "1.2.0",
          "state": {
            "_model_module": "@jupyter-widgets/base",
            "_model_module_version": "1.2.0",
            "_model_name": "LayoutModel",
            "_view_count": null,
            "_view_module": "@jupyter-widgets/base",
            "_view_module_version": "1.2.0",
            "_view_name": "LayoutView",
            "align_content": null,
            "align_items": null,
            "align_self": null,
            "border": null,
            "bottom": null,
            "display": null,
            "flex": null,
            "flex_flow": null,
            "grid_area": null,
            "grid_auto_columns": null,
            "grid_auto_flow": null,
            "grid_auto_rows": null,
            "grid_column": null,
            "grid_gap": null,
            "grid_row": null,
            "grid_template_areas": null,
            "grid_template_columns": null,
            "grid_template_rows": null,
            "height": null,
            "justify_content": null,
            "justify_items": null,
            "left": null,
            "margin": null,
            "max_height": null,
            "max_width": null,
            "min_height": null,
            "min_width": null,
            "object_fit": null,
            "object_position": null,
            "order": null,
            "overflow": null,
            "overflow_x": null,
            "overflow_y": null,
            "padding": null,
            "right": null,
            "top": null,
            "visibility": null,
            "width": null
          }
        },
        "c7ba1b093a924d389ba930be383acfb9": {
          "model_module": "@jupyter-widgets/controls",
          "model_name": "DescriptionStyleModel",
          "model_module_version": "1.5.0",
          "state": {
            "_model_module": "@jupyter-widgets/controls",
            "_model_module_version": "1.5.0",
            "_model_name": "DescriptionStyleModel",
            "_view_count": null,
            "_view_module": "@jupyter-widgets/base",
            "_view_module_version": "1.2.0",
            "_view_name": "StyleView",
            "description_width": ""
          }
        },
        "184d711c2fe6448f9d3f070394c09805": {
          "model_module": "@jupyter-widgets/controls",
          "model_name": "ButtonModel",
          "model_module_version": "1.5.0",
          "state": {
            "_dom_classes": [],
            "_model_module": "@jupyter-widgets/controls",
            "_model_module_version": "1.5.0",
            "_model_name": "ButtonModel",
            "_view_count": null,
            "_view_module": "@jupyter-widgets/controls",
            "_view_module_version": "1.5.0",
            "_view_name": "ButtonView",
            "button_style": "",
            "description": "Find Scales",
            "disabled": false,
            "icon": "",
            "layout": "IPY_MODEL_e652d4b69b064da1bf46a40eaba62e79",
            "style": "IPY_MODEL_b8f2b62ffaa145349b211a32402cfa25",
            "tooltip": ""
          }
        },
        "e652d4b69b064da1bf46a40eaba62e79": {
          "model_module": "@jupyter-widgets/base",
          "model_name": "LayoutModel",
          "model_module_version": "1.2.0",
          "state": {
            "_model_module": "@jupyter-widgets/base",
            "_model_module_version": "1.2.0",
            "_model_name": "LayoutModel",
            "_view_count": null,
            "_view_module": "@jupyter-widgets/base",
            "_view_module_version": "1.2.0",
            "_view_name": "LayoutView",
            "align_content": null,
            "align_items": null,
            "align_self": null,
            "border": null,
            "bottom": null,
            "display": null,
            "flex": null,
            "flex_flow": null,
            "grid_area": null,
            "grid_auto_columns": null,
            "grid_auto_flow": null,
            "grid_auto_rows": null,
            "grid_column": null,
            "grid_gap": null,
            "grid_row": null,
            "grid_template_areas": null,
            "grid_template_columns": null,
            "grid_template_rows": null,
            "height": null,
            "justify_content": null,
            "justify_items": null,
            "left": null,
            "margin": null,
            "max_height": null,
            "max_width": null,
            "min_height": null,
            "min_width": null,
            "object_fit": null,
            "object_position": null,
            "order": null,
            "overflow": null,
            "overflow_x": null,
            "overflow_y": null,
            "padding": null,
            "right": null,
            "top": null,
            "visibility": null,
            "width": null
          }
        },
        "b8f2b62ffaa145349b211a32402cfa25": {
          "model_module": "@jupyter-widgets/controls",
          "model_name": "ButtonStyleModel",
          "model_module_version": "1.5.0",
          "state": {
            "_model_module": "@jupyter-widgets/controls",
            "_model_module_version": "1.5.0",
            "_model_name": "ButtonStyleModel",
            "_view_count": null,
            "_view_module": "@jupyter-widgets/base",
            "_view_module_version": "1.2.0",
            "_view_name": "StyleView",
            "button_color": null,
            "font_weight": ""
          }
        },
        "5f582437b0d04ca2877515ba2b4d8f8b": {
          "model_module": "@jupyter-widgets/output",
          "model_name": "OutputModel",
          "model_module_version": "1.0.0",
          "state": {
            "_dom_classes": [],
            "_model_module": "@jupyter-widgets/output",
            "_model_module_version": "1.0.0",
            "_model_name": "OutputModel",
            "_view_count": null,
            "_view_module": "@jupyter-widgets/output",
            "_view_module_version": "1.0.0",
            "_view_name": "OutputView",
            "layout": "IPY_MODEL_51e1761a6bad4472874af36c95b89f65",
            "msg_id": "",
            "outputs": [
              {
                "output_type": "display_data",
                "data": {
                  "text/plain": "<IPython.core.display.Markdown object>",
                  "text/markdown": "**Entered chord notes:** ['D', 'F', 'G#', 'C']\n\n**Matching scales with root note D:**\n\nD Locrian (D Major, mode +6): Notes(D, D#, F, G, G#, A#, C)\n**Intervals:**\n- **0**: **D**\n- 1: D#\n- **3**: **F**\n- 5: G\n- **6**: **G#**\n- 8: A#\n- **10**: **C**\n\nD Locrian #6 (D Harmonic Minor, mode +1): Notes(D, E, F, G, G#, B, C)\n**Intervals:**\n- **0**: **D**\n- 2: E\n- **3**: **F**\n- 5: G\n- **6**: **G#**\n- 9: B\n- **10**: **C**\n\nD Altered Scale (D Melodic Minor, mode +6): Notes(D, D#, F, F#, G#, A#, C)\n**Intervals:**\n- **0**: **D**\n- 1: D#\n- **3**: **F**\n- 4: F#\n- **6**: **G#**\n- 8: A#\n- **10**: **C**"
                },
                "metadata": {}
              }
            ]
          }
        },
        "51e1761a6bad4472874af36c95b89f65": {
          "model_module": "@jupyter-widgets/base",
          "model_name": "LayoutModel",
          "model_module_version": "1.2.0",
          "state": {
            "_model_module": "@jupyter-widgets/base",
            "_model_module_version": "1.2.0",
            "_model_name": "LayoutModel",
            "_view_count": null,
            "_view_module": "@jupyter-widgets/base",
            "_view_module_version": "1.2.0",
            "_view_name": "LayoutView",
            "align_content": null,
            "align_items": null,
            "align_self": null,
            "border": null,
            "bottom": null,
            "display": null,
            "flex": null,
            "flex_flow": null,
            "grid_area": null,
            "grid_auto_columns": null,
            "grid_auto_flow": null,
            "grid_auto_rows": null,
            "grid_column": null,
            "grid_gap": null,
            "grid_row": null,
            "grid_template_areas": null,
            "grid_template_columns": null,
            "grid_template_rows": null,
            "height": null,
            "justify_content": null,
            "justify_items": null,
            "left": null,
            "margin": null,
            "max_height": null,
            "max_width": null,
            "min_height": null,
            "min_width": null,
            "object_fit": null,
            "object_position": null,
            "order": null,
            "overflow": null,
            "overflow_x": null,
            "overflow_y": null,
            "padding": null,
            "right": null,
            "top": null,
            "visibility": null,
            "width": null
          }
        }
      }
    }
  },
  "cells": [
    {
      "cell_type": "markdown",
      "metadata": {
        "id": "view-in-github",
        "colab_type": "text"
      },
      "source": [
        "<a href=\"https://colab.research.google.com/github/jantuitman/musicexperiments/blob/main/scalesfinder.ipynb\" target=\"_parent\"><img src=\"https://colab.research.google.com/assets/colab-badge.svg\" alt=\"Open In Colab\"/></a>"
      ]
    },
    {
      "cell_type": "markdown",
      "source": [
        "# Scales finder\n",
        "\n",
        "This notebook prints scales that match chords or notes that you supply."
      ],
      "metadata": {
        "id": "Bay4hoxqibCU"
      }
    },
    {
      "cell_type": "code",
      "source": [
        "class Note:\n",
        "    NOTES = [\"C\", \"C#\", \"D\", \"D#\", \"E\", \"F\", \"F#\", \"G\", \"G#\", \"A\", \"A#\", \"B\"]\n",
        "    NOTE_VALUES = {note: i for i, note in enumerate(NOTES)}\n",
        "    VALUE_NOTES = {i: note for i, note in enumerate(NOTES)}\n",
        "\n",
        "    def __init__(self, name):\n",
        "        self.name = name\n",
        "        self.value = self.NOTE_VALUES[name]\n",
        "\n",
        "    def interval_to(self, other):\n",
        "        return (other.value - self.value) % 12\n",
        "\n",
        "    def __repr__(self):\n",
        "        return self.name\n"
      ],
      "metadata": {
        "id": "pDB-ui3gjBtA"
      },
      "execution_count": 8,
      "outputs": []
    },
    {
      "cell_type": "code",
      "source": [
        "class Scale:\n",
        "    def __init__(self, root, intervals, name, mode=0, scale_type=\"\"):\n",
        "        self.root = Note(root)\n",
        "        self.intervals = intervals\n",
        "        self.name = name\n",
        "        self.scale_type = scale_type\n",
        "        self.systematic_name = f\"{root} {scale_type}, mode +{mode}\"\n",
        "        self.notes = [self.root.name] + [Note.VALUE_NOTES[(self.root.value + interval) % 12] for interval in intervals]\n",
        "\n",
        "    def contains(self, notes):\n",
        "        return all(note.name in self.notes for note in notes)\n",
        "\n",
        "    def __repr__(self):\n",
        "        notes_str = ', '.join([str(note) for note in self.notes])\n",
        "        return f\"{self.name} ({self.systematic_name}): Notes({notes_str})\"\n",
        "\n",
        "    def get_intervals_markdown(self, chord_notes):\n",
        "        intervals_md = []\n",
        "        for interval, note in zip([0] + self.intervals, self.notes):\n",
        "            if note in [n.name for n in chord_notes]:\n",
        "                intervals_md.append(f\"- **{interval}**: **{note}**\")\n",
        "            else:\n",
        "                intervals_md.append(f\"- {interval}: {note}\")\n",
        "        return '\\n'.join(intervals_md)\n"
      ],
      "metadata": {
        "id": "SIIDu6JQmSn5"
      },
      "execution_count": 28,
      "outputs": []
    },
    {
      "cell_type": "code",
      "source": [
        "# Define the ScaleCollection class\n",
        "class ScaleCollection:\n",
        "    def __init__(self):\n",
        "        self.scales = []\n",
        "\n",
        "    def add_scale(self, scale):\n",
        "        self.scales.append(scale)\n",
        "\n",
        "    def match_scales(self, chord_notes):\n",
        "        matching_scales = []\n",
        "        for scale in self.scales:\n",
        "            if scale.contains(chord_notes):\n",
        "                matching_scales.append(scale)\n",
        "        return matching_scales"
      ],
      "metadata": {
        "id": "eWG5BDKfmaiZ"
      },
      "execution_count": 10,
      "outputs": []
    },
    {
      "cell_type": "code",
      "source": [
        "def add_scales_for_all_roots(scale_collection, intervals, name, scale_type, mode=0):\n",
        "    for root in Note.NOTES:\n",
        "        scale_collection.add_scale(Scale(root, intervals, f\"{root} {name}\", mode, scale_type))\n"
      ],
      "metadata": {
        "id": "tWvXShCSwRf0"
      },
      "execution_count": 19,
      "outputs": []
    },
    {
      "cell_type": "code",
      "source": [
        "\n",
        "# Initialize the scale collection with common scales\n",
        "scale_collection = ScaleCollection()\n",
        "\n",
        "# Natural Major Scale (Ionian and its modes)\n",
        "add_scales_for_all_roots(scale_collection, [2, 4, 5, 7, 9, 11], \"Ionian\", \"Major\", 0)\n",
        "add_scales_for_all_roots(scale_collection, [2, 3, 5, 7, 9, 10], \"Dorian\", \"Major\", 1)\n",
        "add_scales_for_all_roots(scale_collection, [1, 3, 5, 7, 8, 10], \"Phrygian\", \"Major\", 2)\n",
        "add_scales_for_all_roots(scale_collection, [2, 4, 6, 7, 9, 11], \"Lydian\", \"Major\", 3)\n",
        "add_scales_for_all_roots(scale_collection, [2, 4, 5, 7, 9, 10], \"Mixolydian\", \"Major\", 4)\n",
        "add_scales_for_all_roots(scale_collection, [2, 3, 5, 7, 8, 10], \"Aeolian (Natural Minor)\", \"Major\", 5)\n",
        "add_scales_for_all_roots(scale_collection, [1, 3, 5, 6, 8, 10], \"Locrian\", \"Major\", 6)\n",
        "\n",
        "# Harmonic Minor Scale and its modes\n",
        "add_scales_for_all_roots(scale_collection, [2, 3, 5, 7, 8, 11], \"Harmonic Minor\", \"Harmonic Minor\", 0)\n",
        "add_scales_for_all_roots(scale_collection, [2, 3, 5, 6, 9, 10], \"Locrian #6\", \"Harmonic Minor\", 1)\n",
        "add_scales_for_all_roots(scale_collection, [1, 4, 5, 7, 9, 11], \"Ionian #5\", \"Harmonic Minor\", 2)\n",
        "add_scales_for_all_roots(scale_collection, [2, 4, 5, 7, 8, 10], \"Dorian #4\", \"Harmonic Minor\", 3)\n",
        "add_scales_for_all_roots(scale_collection, [1, 4, 5, 7, 8, 10], \"Phrygian Dominant\", \"Harmonic Minor\", 4)\n",
        "add_scales_for_all_roots(scale_collection, [3, 4, 6, 7, 9, 11], \"Lydian #2\", \"Harmonic Minor\", 5)\n",
        "add_scales_for_all_roots(scale_collection, [1, 3, 4, 6, 8, 9], \"Altered Dominant bb7\", \"Harmonic Minor\", 6)\n",
        "\n",
        "# Melodic Minor Scale (ascending) and its modes\n",
        "add_scales_for_all_roots(scale_collection, [2, 3, 5, 7, 9, 11], \"Melodic Minor (Ascending)\", \"Melodic Minor\", 0)\n",
        "add_scales_for_all_roots(scale_collection, [2, 3, 5, 7, 9, 10], \"Dorian b2\", \"Melodic Minor\", 1)\n",
        "add_scales_for_all_roots(scale_collection, [1, 3, 5, 7, 9, 10], \"Lydian Augmented\", \"Melodic Minor\", 2)\n",
        "add_scales_for_all_roots(scale_collection, [2, 4, 6, 7, 9, 10], \"Lydian Dominant\", \"Melodic Minor\", 3)\n",
        "add_scales_for_all_roots(scale_collection, [2, 4, 5, 6, 9, 10], \"Mixolydian b6\", \"Melodic Minor\", 4)\n",
        "add_scales_for_all_roots(scale_collection, [2, 3, 4, 7, 9, 10], \"Locrian #2\", \"Melodic Minor\", 5)\n",
        "add_scales_for_all_roots(scale_collection, [1, 3, 4, 6, 8, 10], \"Altered Scale\", \"Melodic Minor\", 6)\n",
        "\n",
        "# Melodic Major Scale and its modes\n",
        "add_scales_for_all_roots(scale_collection, [2, 4, 5, 7, 9, 10], \"Melodic Major\", \"Melodic Major\", 0)\n",
        "add_scales_for_all_roots(scale_collection, [2, 3, 5, 7, 9, 10], \"Dorian b5\", \"Melodic Major\", 1)\n",
        "add_scales_for_all_roots(scale_collection, [2, 4, 5, 7, 8, 10], \"Phrygian b4\", \"Melodic Major\", 2)\n",
        "add_scales_for_all_roots(scale_collection, [2, 3, 6, 7, 9, 11], \"Lydian b3\", \"Melodic Major\", 3)\n",
        "add_scales_for_all_roots(scale_collection, [2, 4, 6, 7, 8, 11], \"Mixolydian b2\", \"Melodic Major\", 4)\n",
        "add_scales_for_all_roots(scale_collection, [1, 3, 4, 6, 8, 9], \"Locrian b1\", \"Melodic Major\", 5)\n",
        "add_scales_for_all_roots(scale_collection, [1, 2, 4, 5, 7, 9], \"Superlocrian\", \"Melodic Major\", 6)\n"
      ],
      "metadata": {
        "id": "7Akr1apbnWow"
      },
      "execution_count": 29,
      "outputs": []
    },
    {
      "cell_type": "code",
      "source": [
        "import ipywidgets as widgets\n",
        "from IPython.display import display, clear_output, Markdown\n",
        "\n",
        "# Define the text boxes\n",
        "text_box_notes = widgets.Text(\n",
        "    value='C E G',\n",
        "    placeholder='Enter note names separated by space',\n",
        "    description='Chord Notes:',\n",
        "    disabled=False\n",
        ")\n",
        "\n",
        "text_box_root = widgets.Text(\n",
        "    value='',\n",
        "    placeholder='Enter root note (optional)',\n",
        "    description='Root Note:',\n",
        "    disabled=False\n",
        ")\n",
        "\n",
        "# Define a button\n",
        "button_find_scales = widgets.Button(description=\"Find Scales\")\n",
        "\n",
        "# Define the output area\n",
        "output_notes = widgets.Output()\n",
        "\n",
        "# Define the event handler\n",
        "def find_scales(b):\n",
        "    with output_notes:\n",
        "        clear_output()\n",
        "        notes = text_box_notes.value.split()\n",
        "        chord_notes = [Note(note) for note in notes]\n",
        "        root_note = text_box_root.value.strip()\n",
        "        matching_scales = scale_collection.match_scales(chord_notes)\n",
        "        if root_note:\n",
        "          root_note_value = Note.NOTE_VALUES.get(root_note, None)\n",
        "          if root_note_value is not None:\n",
        "            matching_scales = [scale for scale in matching_scales if scale.root.value == root_note_value]\n",
        "\n",
        "        result_markdown = [f\"**Entered chord notes:** {notes}\"]\n",
        "        if root_note is not None:\n",
        "            result_markdown.append(f\"**Matching scales with root note {root_note}:**\")\n",
        "        else:\n",
        "            result_markdown.append(\"**Matching scales:**\")\n",
        "\n",
        "        for scale in matching_scales:\n",
        "            scale_md = f\"{scale}\\n**Intervals:**\\n{scale.get_intervals_markdown(chord_notes)}\"\n",
        "            result_markdown.append(scale_md)\n",
        "\n",
        "        display(Markdown(\"\\n\\n\".join(result_markdown)))\n",
        "\n",
        "# Attach the event handler to the button\n",
        "button_find_scales.on_click(find_scales)\n",
        "\n",
        "# Display the text boxes, button, and output area\n",
        "display(text_box_notes, text_box_root, button_find_scales, output_notes)\n"
      ],
      "metadata": {
        "colab": {
          "base_uri": "https://localhost:8080/",
          "height": 609,
          "referenced_widgets": [
            "cc9d5d20e7804dcda5c5de6540786d08",
            "a0605d9c8a1f41fda9d189d3b58081eb",
            "d2dada464c964369ba2bcda029b0779e",
            "06df1093cdc74144a7aaa2bfc3460ddd",
            "d3d2d524e26b4689bdeb66d494c031e4",
            "c7ba1b093a924d389ba930be383acfb9",
            "184d711c2fe6448f9d3f070394c09805",
            "e652d4b69b064da1bf46a40eaba62e79",
            "b8f2b62ffaa145349b211a32402cfa25",
            "5f582437b0d04ca2877515ba2b4d8f8b",
            "51e1761a6bad4472874af36c95b89f65"
          ]
        },
        "id": "OfEnChqgn7M2",
        "outputId": "989e4da3-6384-4ed8-ea51-29c55b81dca3"
      },
      "execution_count": 31,
      "outputs": [
        {
          "output_type": "display_data",
          "data": {
            "text/plain": [
              "Text(value='C E G', description='Chord Notes:', placeholder='Enter note names separated by space')"
            ],
            "application/vnd.jupyter.widget-view+json": {
              "version_major": 2,
              "version_minor": 0,
              "model_id": "cc9d5d20e7804dcda5c5de6540786d08"
            }
          },
          "metadata": {}
        },
        {
          "output_type": "display_data",
          "data": {
            "text/plain": [
              "Text(value='', description='Root Note:', placeholder='Enter root note (optional)')"
            ],
            "application/vnd.jupyter.widget-view+json": {
              "version_major": 2,
              "version_minor": 0,
              "model_id": "06df1093cdc74144a7aaa2bfc3460ddd"
            }
          },
          "metadata": {}
        },
        {
          "output_type": "display_data",
          "data": {
            "text/plain": [
              "Button(description='Find Scales', style=ButtonStyle())"
            ],
            "application/vnd.jupyter.widget-view+json": {
              "version_major": 2,
              "version_minor": 0,
              "model_id": "184d711c2fe6448f9d3f070394c09805"
            }
          },
          "metadata": {}
        },
        {
          "output_type": "display_data",
          "data": {
            "text/plain": [
              "Output()"
            ],
            "application/vnd.jupyter.widget-view+json": {
              "version_major": 2,
              "version_minor": 0,
              "model_id": "5f582437b0d04ca2877515ba2b4d8f8b"
            }
          },
          "metadata": {}
        }
      ]
    }
  ]
}